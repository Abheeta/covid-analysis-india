{
 "cells": [
  {
   "cell_type": "code",
   "execution_count": 1,
   "metadata": {},
   "outputs": [],
   "source": [
    "import pandas as pb\n",
    "import numpy as np\n",
    "data = pb.read_csv(\"C:\\\\Users\\\\Windows10\\\\Desktop\\\\Machine Learning\\\\Covid Analysis\\\\covid_india.csv\")"
   ]
  },
  {
   "cell_type": "code",
   "execution_count": 2,
   "metadata": {},
   "outputs": [],
   "source": [
    "dat = data.to_numpy()\n",
    "dat = np.random.permutation(dat)"
   ]
  },
  {
   "cell_type": "code",
   "execution_count": 3,
   "metadata": {},
   "outputs": [
    {
     "name": "stdout",
     "output_type": "stream",
     "text": [
      "(6287, 4)\n",
      "(6287,)\n"
     ]
    }
   ],
   "source": [
    "X = dat[:, 0:4]\n",
    "Y = dat[:, 4]\n",
    "print(X.shape)\n",
    "print(Y.shape)"
   ]
  },
  {
   "cell_type": "code",
   "execution_count": 4,
   "metadata": {},
   "outputs": [
    {
     "name": "stdout",
     "output_type": "stream",
     "text": [
      "5029.6\n"
     ]
    }
   ],
   "source": [
    "ratio = 6287 / 5 * 4\n",
    "print(ratio)"
   ]
  },
  {
   "cell_type": "code",
   "execution_count": 5,
   "metadata": {},
   "outputs": [
    {
     "name": "stdout",
     "output_type": "stream",
     "text": [
      "(5000, 4)\n",
      "(1287, 4)\n"
     ]
    }
   ],
   "source": [
    "[X_train, X_test] = np.split(X, [5000])\n",
    "print(X_train.shape)\n",
    "print(X_test.shape)"
   ]
  },
  {
   "cell_type": "code",
   "execution_count": 6,
   "metadata": {},
   "outputs": [
    {
     "name": "stdout",
     "output_type": "stream",
     "text": [
      "(5000,)\n",
      "(1287,)\n"
     ]
    }
   ],
   "source": [
    "[Y_train, Y_test] = np.split(Y, [5000])\n",
    "print(Y_train.shape)\n",
    "print(Y_test.shape)"
   ]
  },
  {
   "cell_type": "code",
   "execution_count": 7,
   "metadata": {},
   "outputs": [
    {
     "name": "stdout",
     "output_type": "stream",
     "text": [
      "[[2.8600000e+02 8.5900000e+02 1.5934926e+07 1.7471135e+07]\n",
      " [3.4270000e+03 2.0100000e+02 1.7048085e+07 5.1500352e+07]\n",
      " [1.3336000e+04 3.9700000e+02 4.3985420e+06 2.6807034e+07]\n",
      " ...\n",
      " [5.2300000e+02 1.1297000e+04 1.6368899e+07 4.1904200e+05]\n",
      " [1.7900000e+02 3.0800000e+02 2.5745083e+07 3.4694609e+07]\n",
      " [8.5410000e+03 3.0800000e+02 2.5745083e+07 3.4694609e+07]]\n",
      "[  295.  3579. 14032. ...   576.   241.  8903.]\n"
     ]
    }
   ],
   "source": [
    "print(X_train)\n",
    "print(Y_train)"
   ]
  }
 ],
 "metadata": {
  "kernelspec": {
   "display_name": "Python 3",
   "language": "python",
   "name": "python3"
  },
  "language_info": {
   "codemirror_mode": {
    "name": "ipython",
    "version": 3
   },
   "file_extension": ".py",
   "mimetype": "text/x-python",
   "name": "python",
   "nbconvert_exporter": "python",
   "pygments_lexer": "ipython3",
   "version": "3.7.3"
  }
 },
 "nbformat": 4,
 "nbformat_minor": 2
}
